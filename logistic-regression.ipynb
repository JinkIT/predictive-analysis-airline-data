{
 "cells": [
  {
   "cell_type": "code",
   "execution_count": 7,
   "id": "e3b65ee8-8c75-41be-82f0-ddd8deffd820",
   "metadata": {
    "tags": []
   },
   "outputs": [
    {
     "name": "stdout",
     "output_type": "stream",
     "text": [
      "<class 'pandas.core.frame.DataFrame'>\n",
      "RangeIndex: 1562 entries, 0 to 1561\n",
      "Data columns (total 21 columns):\n",
      " #   Column               Non-Null Count  Dtype  \n",
      "---  ------               --------------  -----  \n",
      " 0   year                 1562 non-null   int64  \n",
      " 1   month                1562 non-null   int64  \n",
      " 2   carrier              1562 non-null   object \n",
      " 3   carrier_name         1562 non-null   object \n",
      " 4   airport              1562 non-null   object \n",
      " 5   airport_name         1562 non-null   object \n",
      " 6   arr_flights          1561 non-null   float64\n",
      " 7   arr_del15            1561 non-null   float64\n",
      " 8   carrier_ct           1561 non-null   float64\n",
      " 9   weather_ct           1561 non-null   float64\n",
      " 10  nas_ct               1561 non-null   float64\n",
      " 11  security_ct          1561 non-null   float64\n",
      " 12  late_aircraft_ct     1561 non-null   float64\n",
      " 13  arr_cancelled        1561 non-null   float64\n",
      " 14  arr_diverted         1561 non-null   float64\n",
      " 15  arr_delay            1561 non-null   float64\n",
      " 16  carrier_delay        1561 non-null   float64\n",
      " 17  weather_delay        1561 non-null   float64\n",
      " 18  nas_delay            1561 non-null   float64\n",
      " 19  security_delay       1561 non-null   float64\n",
      " 20  late_aircraft_delay  1561 non-null   float64\n",
      "dtypes: float64(15), int64(2), object(4)\n",
      "memory usage: 256.4+ KB\n"
     ]
    }
   ],
   "source": [
    "import pandas as pd\n",
    "\n",
    "file_path='./data/Airline_Delay_Cause.csv'\n",
    "\n",
    "data = pd.read_csv(file_path)"
   ]
  },
  {
   "cell_type": "code",
   "execution_count": 8,
   "id": "5fceee7d-16a5-49db-8212-b8c7d622124f",
   "metadata": {
    "tags": []
   },
   "outputs": [
    {
     "data": {
      "text/html": [
       "<div>\n",
       "<style scoped>\n",
       "    .dataframe tbody tr th:only-of-type {\n",
       "        vertical-align: middle;\n",
       "    }\n",
       "\n",
       "    .dataframe tbody tr th {\n",
       "        vertical-align: top;\n",
       "    }\n",
       "\n",
       "    .dataframe thead th {\n",
       "        text-align: right;\n",
       "    }\n",
       "</style>\n",
       "<table border=\"1\" class=\"dataframe\">\n",
       "  <thead>\n",
       "    <tr style=\"text-align: right;\">\n",
       "      <th></th>\n",
       "      <th>year</th>\n",
       "      <th>month</th>\n",
       "      <th>carrier</th>\n",
       "      <th>carrier_name</th>\n",
       "      <th>airport</th>\n",
       "      <th>airport_name</th>\n",
       "      <th>arr_flights</th>\n",
       "      <th>arr_del15</th>\n",
       "      <th>carrier_ct</th>\n",
       "      <th>weather_ct</th>\n",
       "      <th>...</th>\n",
       "      <th>security_ct</th>\n",
       "      <th>late_aircraft_ct</th>\n",
       "      <th>arr_cancelled</th>\n",
       "      <th>arr_diverted</th>\n",
       "      <th>arr_delay</th>\n",
       "      <th>carrier_delay</th>\n",
       "      <th>weather_delay</th>\n",
       "      <th>nas_delay</th>\n",
       "      <th>security_delay</th>\n",
       "      <th>late_aircraft_delay</th>\n",
       "    </tr>\n",
       "  </thead>\n",
       "  <tbody>\n",
       "    <tr>\n",
       "      <th>0</th>\n",
       "      <td>2023</td>\n",
       "      <td>12</td>\n",
       "      <td>9E</td>\n",
       "      <td>Endeavor Air Inc.</td>\n",
       "      <td>ABE</td>\n",
       "      <td>Allentown/Bethlehem/Easton, PA: Lehigh Valley ...</td>\n",
       "      <td>72.0</td>\n",
       "      <td>5.0</td>\n",
       "      <td>2.46</td>\n",
       "      <td>1.00</td>\n",
       "      <td>...</td>\n",
       "      <td>0.0</td>\n",
       "      <td>0.81</td>\n",
       "      <td>0.0</td>\n",
       "      <td>0.0</td>\n",
       "      <td>672.0</td>\n",
       "      <td>61.0</td>\n",
       "      <td>574.0</td>\n",
       "      <td>20.0</td>\n",
       "      <td>0.0</td>\n",
       "      <td>17.0</td>\n",
       "    </tr>\n",
       "    <tr>\n",
       "      <th>1</th>\n",
       "      <td>2023</td>\n",
       "      <td>12</td>\n",
       "      <td>9E</td>\n",
       "      <td>Endeavor Air Inc.</td>\n",
       "      <td>AEX</td>\n",
       "      <td>Alexandria, LA: Alexandria International</td>\n",
       "      <td>62.0</td>\n",
       "      <td>7.0</td>\n",
       "      <td>4.25</td>\n",
       "      <td>0.00</td>\n",
       "      <td>...</td>\n",
       "      <td>0.0</td>\n",
       "      <td>1.75</td>\n",
       "      <td>0.0</td>\n",
       "      <td>0.0</td>\n",
       "      <td>348.0</td>\n",
       "      <td>252.0</td>\n",
       "      <td>0.0</td>\n",
       "      <td>33.0</td>\n",
       "      <td>0.0</td>\n",
       "      <td>63.0</td>\n",
       "    </tr>\n",
       "    <tr>\n",
       "      <th>2</th>\n",
       "      <td>2023</td>\n",
       "      <td>12</td>\n",
       "      <td>9E</td>\n",
       "      <td>Endeavor Air Inc.</td>\n",
       "      <td>AGS</td>\n",
       "      <td>Augusta, GA: Augusta Regional at Bush Field</td>\n",
       "      <td>95.0</td>\n",
       "      <td>10.0</td>\n",
       "      <td>5.94</td>\n",
       "      <td>0.00</td>\n",
       "      <td>...</td>\n",
       "      <td>0.0</td>\n",
       "      <td>3.00</td>\n",
       "      <td>0.0</td>\n",
       "      <td>0.0</td>\n",
       "      <td>859.0</td>\n",
       "      <td>536.0</td>\n",
       "      <td>0.0</td>\n",
       "      <td>47.0</td>\n",
       "      <td>0.0</td>\n",
       "      <td>276.0</td>\n",
       "    </tr>\n",
       "    <tr>\n",
       "      <th>3</th>\n",
       "      <td>2023</td>\n",
       "      <td>12</td>\n",
       "      <td>9E</td>\n",
       "      <td>Endeavor Air Inc.</td>\n",
       "      <td>ALB</td>\n",
       "      <td>Albany, NY: Albany International</td>\n",
       "      <td>23.0</td>\n",
       "      <td>2.0</td>\n",
       "      <td>0.56</td>\n",
       "      <td>0.00</td>\n",
       "      <td>...</td>\n",
       "      <td>0.0</td>\n",
       "      <td>1.44</td>\n",
       "      <td>1.0</td>\n",
       "      <td>0.0</td>\n",
       "      <td>75.0</td>\n",
       "      <td>9.0</td>\n",
       "      <td>0.0</td>\n",
       "      <td>0.0</td>\n",
       "      <td>0.0</td>\n",
       "      <td>66.0</td>\n",
       "    </tr>\n",
       "    <tr>\n",
       "      <th>4</th>\n",
       "      <td>2023</td>\n",
       "      <td>12</td>\n",
       "      <td>9E</td>\n",
       "      <td>Endeavor Air Inc.</td>\n",
       "      <td>ATL</td>\n",
       "      <td>Atlanta, GA: Hartsfield-Jackson Atlanta Intern...</td>\n",
       "      <td>2111.0</td>\n",
       "      <td>256.0</td>\n",
       "      <td>76.88</td>\n",
       "      <td>8.75</td>\n",
       "      <td>...</td>\n",
       "      <td>0.0</td>\n",
       "      <td>117.94</td>\n",
       "      <td>1.0</td>\n",
       "      <td>0.0</td>\n",
       "      <td>21424.0</td>\n",
       "      <td>8906.0</td>\n",
       "      <td>732.0</td>\n",
       "      <td>1487.0</td>\n",
       "      <td>0.0</td>\n",
       "      <td>10299.0</td>\n",
       "    </tr>\n",
       "  </tbody>\n",
       "</table>\n",
       "<p>5 rows × 21 columns</p>\n",
       "</div>"
      ],
      "text/plain": [
       "   year  month carrier       carrier_name airport  \\\n",
       "0  2023     12      9E  Endeavor Air Inc.     ABE   \n",
       "1  2023     12      9E  Endeavor Air Inc.     AEX   \n",
       "2  2023     12      9E  Endeavor Air Inc.     AGS   \n",
       "3  2023     12      9E  Endeavor Air Inc.     ALB   \n",
       "4  2023     12      9E  Endeavor Air Inc.     ATL   \n",
       "\n",
       "                                        airport_name  arr_flights  arr_del15  \\\n",
       "0  Allentown/Bethlehem/Easton, PA: Lehigh Valley ...         72.0        5.0   \n",
       "1           Alexandria, LA: Alexandria International         62.0        7.0   \n",
       "2        Augusta, GA: Augusta Regional at Bush Field         95.0       10.0   \n",
       "3                   Albany, NY: Albany International         23.0        2.0   \n",
       "4  Atlanta, GA: Hartsfield-Jackson Atlanta Intern...       2111.0      256.0   \n",
       "\n",
       "   carrier_ct  weather_ct  ...  security_ct  late_aircraft_ct  arr_cancelled  \\\n",
       "0        2.46        1.00  ...          0.0              0.81            0.0   \n",
       "1        4.25        0.00  ...          0.0              1.75            0.0   \n",
       "2        5.94        0.00  ...          0.0              3.00            0.0   \n",
       "3        0.56        0.00  ...          0.0              1.44            1.0   \n",
       "4       76.88        8.75  ...          0.0            117.94            1.0   \n",
       "\n",
       "   arr_diverted  arr_delay  carrier_delay  weather_delay  nas_delay  \\\n",
       "0           0.0      672.0           61.0          574.0       20.0   \n",
       "1           0.0      348.0          252.0            0.0       33.0   \n",
       "2           0.0      859.0          536.0            0.0       47.0   \n",
       "3           0.0       75.0            9.0            0.0        0.0   \n",
       "4           0.0    21424.0         8906.0          732.0     1487.0   \n",
       "\n",
       "   security_delay  late_aircraft_delay  \n",
       "0             0.0                 17.0  \n",
       "1             0.0                 63.0  \n",
       "2             0.0                276.0  \n",
       "3             0.0                 66.0  \n",
       "4             0.0              10299.0  \n",
       "\n",
       "[5 rows x 21 columns]"
      ]
     },
     "execution_count": 8,
     "metadata": {},
     "output_type": "execute_result"
    }
   ],
   "source": [
    "data.head()"
   ]
  },
  {
   "cell_type": "code",
   "execution_count": 9,
   "id": "195a26f7-3a6b-4988-99b6-4e43505b11c2",
   "metadata": {
    "tags": []
   },
   "outputs": [
    {
     "name": "stdout",
     "output_type": "stream",
     "text": [
      "<class 'pandas.core.frame.DataFrame'>\n",
      "RangeIndex: 1562 entries, 0 to 1561\n",
      "Data columns (total 21 columns):\n",
      " #   Column               Non-Null Count  Dtype  \n",
      "---  ------               --------------  -----  \n",
      " 0   year                 1562 non-null   int64  \n",
      " 1   month                1562 non-null   int64  \n",
      " 2   carrier              1562 non-null   object \n",
      " 3   carrier_name         1562 non-null   object \n",
      " 4   airport              1562 non-null   object \n",
      " 5   airport_name         1562 non-null   object \n",
      " 6   arr_flights          1561 non-null   float64\n",
      " 7   arr_del15            1561 non-null   float64\n",
      " 8   carrier_ct           1561 non-null   float64\n",
      " 9   weather_ct           1561 non-null   float64\n",
      " 10  nas_ct               1561 non-null   float64\n",
      " 11  security_ct          1561 non-null   float64\n",
      " 12  late_aircraft_ct     1561 non-null   float64\n",
      " 13  arr_cancelled        1561 non-null   float64\n",
      " 14  arr_diverted         1561 non-null   float64\n",
      " 15  arr_delay            1561 non-null   float64\n",
      " 16  carrier_delay        1561 non-null   float64\n",
      " 17  weather_delay        1561 non-null   float64\n",
      " 18  nas_delay            1561 non-null   float64\n",
      " 19  security_delay       1561 non-null   float64\n",
      " 20  late_aircraft_delay  1561 non-null   float64\n",
      "dtypes: float64(15), int64(2), object(4)\n",
      "memory usage: 256.4+ KB\n"
     ]
    }
   ],
   "source": [
    "data.info()"
   ]
  },
  {
   "cell_type": "code",
   "execution_count": 12,
   "id": "6658ab6c-fe00-4215-aaaa-87c235834144",
   "metadata": {
    "tags": []
   },
   "outputs": [],
   "source": [
    "# Handling missing values\n",
    "data = data.dropna()"
   ]
  },
  {
   "cell_type": "code",
   "execution_count": 61,
   "id": "9e53aee3-36e6-41d1-a158-d8a1d89c787b",
   "metadata": {
    "tags": []
   },
   "outputs": [
    {
     "name": "stdout",
     "output_type": "stream",
     "text": [
      "<class 'pandas.core.frame.DataFrame'>\n",
      "Int64Index: 1561 entries, 0 to 1561\n",
      "Data columns (total 21 columns):\n",
      " #   Column               Non-Null Count  Dtype  \n",
      "---  ------               --------------  -----  \n",
      " 0   year                 1561 non-null   int64  \n",
      " 1   month                1561 non-null   int64  \n",
      " 2   carrier              1561 non-null   object \n",
      " 3   carrier_name         1561 non-null   object \n",
      " 4   airport              1561 non-null   object \n",
      " 5   airport_name         1561 non-null   object \n",
      " 6   arr_flights          1561 non-null   float64\n",
      " 7   arr_del15            1561 non-null   float64\n",
      " 8   carrier_ct           1561 non-null   float64\n",
      " 9   weather_ct           1561 non-null   float64\n",
      " 10  nas_ct               1561 non-null   float64\n",
      " 11  security_ct          1561 non-null   float64\n",
      " 12  late_aircraft_ct     1561 non-null   float64\n",
      " 13  arr_cancelled        1561 non-null   float64\n",
      " 14  arr_diverted         1561 non-null   float64\n",
      " 15  arr_delay            1561 non-null   float64\n",
      " 16  carrier_delay        1561 non-null   float64\n",
      " 17  weather_delay        1561 non-null   float64\n",
      " 18  nas_delay            1561 non-null   float64\n",
      " 19  security_delay       1561 non-null   float64\n",
      " 20  late_aircraft_delay  1561 non-null   float64\n",
      "dtypes: float64(15), int64(2), object(4)\n",
      "memory usage: 268.3+ KB\n"
     ]
    }
   ],
   "source": [
    "#looks like 1 null value\n",
    "data.info()"
   ]
  },
  {
   "cell_type": "code",
   "execution_count": 62,
   "id": "e80952b2-908f-4764-84f6-50a830c609ba",
   "metadata": {
    "tags": []
   },
   "outputs": [
    {
     "data": {
      "text/plain": [
       "(1561, 21)"
      ]
     },
     "execution_count": 62,
     "metadata": {},
     "output_type": "execute_result"
    }
   ],
   "source": [
    "data.shape"
   ]
  },
  {
   "cell_type": "code",
   "execution_count": 14,
   "id": "fa80c86a-b9c6-4334-9b09-5a2d20dc64fa",
   "metadata": {
    "tags": []
   },
   "outputs": [],
   "source": [
    "# Separating the features\n",
    "X = data.drop(['arr_del15','carrier_name','airport_name'], axis=1)"
   ]
  },
  {
   "cell_type": "code",
   "execution_count": 21,
   "id": "d3fe4a93-4a37-4847-a1e3-d4d25c0df394",
   "metadata": {
    "tags": []
   },
   "outputs": [
    {
     "data": {
      "text/html": [
       "<div>\n",
       "<style scoped>\n",
       "    .dataframe tbody tr th:only-of-type {\n",
       "        vertical-align: middle;\n",
       "    }\n",
       "\n",
       "    .dataframe tbody tr th {\n",
       "        vertical-align: top;\n",
       "    }\n",
       "\n",
       "    .dataframe thead th {\n",
       "        text-align: right;\n",
       "    }\n",
       "</style>\n",
       "<table border=\"1\" class=\"dataframe\">\n",
       "  <thead>\n",
       "    <tr style=\"text-align: right;\">\n",
       "      <th></th>\n",
       "      <th>year</th>\n",
       "      <th>month</th>\n",
       "      <th>carrier</th>\n",
       "      <th>airport</th>\n",
       "      <th>arr_flights</th>\n",
       "      <th>carrier_ct</th>\n",
       "      <th>weather_ct</th>\n",
       "      <th>nas_ct</th>\n",
       "      <th>security_ct</th>\n",
       "      <th>late_aircraft_ct</th>\n",
       "      <th>arr_cancelled</th>\n",
       "      <th>arr_diverted</th>\n",
       "      <th>arr_delay</th>\n",
       "      <th>carrier_delay</th>\n",
       "      <th>weather_delay</th>\n",
       "      <th>nas_delay</th>\n",
       "      <th>security_delay</th>\n",
       "      <th>late_aircraft_delay</th>\n",
       "    </tr>\n",
       "  </thead>\n",
       "  <tbody>\n",
       "    <tr>\n",
       "      <th>0</th>\n",
       "      <td>2023</td>\n",
       "      <td>12</td>\n",
       "      <td>9E</td>\n",
       "      <td>ABE</td>\n",
       "      <td>72.0</td>\n",
       "      <td>2.46</td>\n",
       "      <td>1.00</td>\n",
       "      <td>0.73</td>\n",
       "      <td>0.0</td>\n",
       "      <td>0.81</td>\n",
       "      <td>0.0</td>\n",
       "      <td>0.0</td>\n",
       "      <td>672.0</td>\n",
       "      <td>61.0</td>\n",
       "      <td>574.0</td>\n",
       "      <td>20.0</td>\n",
       "      <td>0.0</td>\n",
       "      <td>17.0</td>\n",
       "    </tr>\n",
       "    <tr>\n",
       "      <th>1</th>\n",
       "      <td>2023</td>\n",
       "      <td>12</td>\n",
       "      <td>9E</td>\n",
       "      <td>AEX</td>\n",
       "      <td>62.0</td>\n",
       "      <td>4.25</td>\n",
       "      <td>0.00</td>\n",
       "      <td>1.00</td>\n",
       "      <td>0.0</td>\n",
       "      <td>1.75</td>\n",
       "      <td>0.0</td>\n",
       "      <td>0.0</td>\n",
       "      <td>348.0</td>\n",
       "      <td>252.0</td>\n",
       "      <td>0.0</td>\n",
       "      <td>33.0</td>\n",
       "      <td>0.0</td>\n",
       "      <td>63.0</td>\n",
       "    </tr>\n",
       "    <tr>\n",
       "      <th>2</th>\n",
       "      <td>2023</td>\n",
       "      <td>12</td>\n",
       "      <td>9E</td>\n",
       "      <td>AGS</td>\n",
       "      <td>95.0</td>\n",
       "      <td>5.94</td>\n",
       "      <td>0.00</td>\n",
       "      <td>1.06</td>\n",
       "      <td>0.0</td>\n",
       "      <td>3.00</td>\n",
       "      <td>0.0</td>\n",
       "      <td>0.0</td>\n",
       "      <td>859.0</td>\n",
       "      <td>536.0</td>\n",
       "      <td>0.0</td>\n",
       "      <td>47.0</td>\n",
       "      <td>0.0</td>\n",
       "      <td>276.0</td>\n",
       "    </tr>\n",
       "    <tr>\n",
       "      <th>3</th>\n",
       "      <td>2023</td>\n",
       "      <td>12</td>\n",
       "      <td>9E</td>\n",
       "      <td>ALB</td>\n",
       "      <td>23.0</td>\n",
       "      <td>0.56</td>\n",
       "      <td>0.00</td>\n",
       "      <td>0.00</td>\n",
       "      <td>0.0</td>\n",
       "      <td>1.44</td>\n",
       "      <td>1.0</td>\n",
       "      <td>0.0</td>\n",
       "      <td>75.0</td>\n",
       "      <td>9.0</td>\n",
       "      <td>0.0</td>\n",
       "      <td>0.0</td>\n",
       "      <td>0.0</td>\n",
       "      <td>66.0</td>\n",
       "    </tr>\n",
       "    <tr>\n",
       "      <th>4</th>\n",
       "      <td>2023</td>\n",
       "      <td>12</td>\n",
       "      <td>9E</td>\n",
       "      <td>ATL</td>\n",
       "      <td>2111.0</td>\n",
       "      <td>76.88</td>\n",
       "      <td>8.75</td>\n",
       "      <td>52.43</td>\n",
       "      <td>0.0</td>\n",
       "      <td>117.94</td>\n",
       "      <td>1.0</td>\n",
       "      <td>0.0</td>\n",
       "      <td>21424.0</td>\n",
       "      <td>8906.0</td>\n",
       "      <td>732.0</td>\n",
       "      <td>1487.0</td>\n",
       "      <td>0.0</td>\n",
       "      <td>10299.0</td>\n",
       "    </tr>\n",
       "  </tbody>\n",
       "</table>\n",
       "</div>"
      ],
      "text/plain": [
       "   year  month carrier airport  arr_flights  carrier_ct  weather_ct  nas_ct  \\\n",
       "0  2023     12      9E     ABE         72.0        2.46        1.00    0.73   \n",
       "1  2023     12      9E     AEX         62.0        4.25        0.00    1.00   \n",
       "2  2023     12      9E     AGS         95.0        5.94        0.00    1.06   \n",
       "3  2023     12      9E     ALB         23.0        0.56        0.00    0.00   \n",
       "4  2023     12      9E     ATL       2111.0       76.88        8.75   52.43   \n",
       "\n",
       "   security_ct  late_aircraft_ct  arr_cancelled  arr_diverted  arr_delay  \\\n",
       "0          0.0              0.81            0.0           0.0      672.0   \n",
       "1          0.0              1.75            0.0           0.0      348.0   \n",
       "2          0.0              3.00            0.0           0.0      859.0   \n",
       "3          0.0              1.44            1.0           0.0       75.0   \n",
       "4          0.0            117.94            1.0           0.0    21424.0   \n",
       "\n",
       "   carrier_delay  weather_delay  nas_delay  security_delay  \\\n",
       "0           61.0          574.0       20.0             0.0   \n",
       "1          252.0            0.0       33.0             0.0   \n",
       "2          536.0            0.0       47.0             0.0   \n",
       "3            9.0            0.0        0.0             0.0   \n",
       "4         8906.0          732.0     1487.0             0.0   \n",
       "\n",
       "   late_aircraft_delay  \n",
       "0                 17.0  \n",
       "1                 63.0  \n",
       "2                276.0  \n",
       "3                 66.0  \n",
       "4              10299.0  "
      ]
     },
     "execution_count": 21,
     "metadata": {},
     "output_type": "execute_result"
    }
   ],
   "source": [
    "X.head()"
   ]
  },
  {
   "cell_type": "code",
   "execution_count": 22,
   "id": "c02e1a45-a884-4ef6-890c-6b44d176f259",
   "metadata": {
    "tags": []
   },
   "outputs": [
    {
     "name": "stdout",
     "output_type": "stream",
     "text": [
      "<class 'pandas.core.frame.DataFrame'>\n",
      "Int64Index: 1561 entries, 0 to 1561\n",
      "Data columns (total 18 columns):\n",
      " #   Column               Non-Null Count  Dtype  \n",
      "---  ------               --------------  -----  \n",
      " 0   year                 1561 non-null   int64  \n",
      " 1   month                1561 non-null   int64  \n",
      " 2   carrier              1561 non-null   object \n",
      " 3   airport              1561 non-null   object \n",
      " 4   arr_flights          1561 non-null   float64\n",
      " 5   carrier_ct           1561 non-null   float64\n",
      " 6   weather_ct           1561 non-null   float64\n",
      " 7   nas_ct               1561 non-null   float64\n",
      " 8   security_ct          1561 non-null   float64\n",
      " 9   late_aircraft_ct     1561 non-null   float64\n",
      " 10  arr_cancelled        1561 non-null   float64\n",
      " 11  arr_diverted         1561 non-null   float64\n",
      " 12  arr_delay            1561 non-null   float64\n",
      " 13  carrier_delay        1561 non-null   float64\n",
      " 14  weather_delay        1561 non-null   float64\n",
      " 15  nas_delay            1561 non-null   float64\n",
      " 16  security_delay       1561 non-null   float64\n",
      " 17  late_aircraft_delay  1561 non-null   float64\n",
      "dtypes: float64(14), int64(2), object(2)\n",
      "memory usage: 231.7+ KB\n"
     ]
    }
   ],
   "source": [
    "X.info()"
   ]
  },
  {
   "cell_type": "code",
   "execution_count": 16,
   "id": "6156e91e-40fc-4a38-a1e2-49a6fdfb697e",
   "metadata": {
    "tags": []
   },
   "outputs": [],
   "source": [
    "y = data['arr_del15'].apply(lambda x: 1 if x > 0 else 0)"
   ]
  },
  {
   "cell_type": "code",
   "execution_count": 31,
   "id": "6f85e4a4-8f8f-40f1-ba61-b187801c2120",
   "metadata": {
    "tags": []
   },
   "outputs": [
    {
     "data": {
      "text/plain": [
       "0    1\n",
       "1    1\n",
       "2    1\n",
       "3    1\n",
       "4    1\n",
       "Name: arr_del15, dtype: int64"
      ]
     },
     "execution_count": 31,
     "metadata": {},
     "output_type": "execute_result"
    }
   ],
   "source": [
    "y.head()"
   ]
  },
  {
   "cell_type": "code",
   "execution_count": 23,
   "id": "d74f34b4-5cdc-4cb7-bb68-981913439e02",
   "metadata": {
    "tags": []
   },
   "outputs": [
    {
     "name": "stdout",
     "output_type": "stream",
     "text": [
      "<class 'pandas.core.series.Series'>\n",
      "Int64Index: 1561 entries, 0 to 1561\n",
      "Series name: arr_del15\n",
      "Non-Null Count  Dtype\n",
      "--------------  -----\n",
      "1561 non-null   int64\n",
      "dtypes: int64(1)\n",
      "memory usage: 24.4 KB\n"
     ]
    }
   ],
   "source": [
    "y.info()"
   ]
  },
  {
   "cell_type": "code",
   "execution_count": 34,
   "id": "c2f55d57-1355-47e2-9bcf-b7f0b0fb5d84",
   "metadata": {
    "tags": []
   },
   "outputs": [
    {
     "data": {
      "text/plain": [
       "1    1512\n",
       "0      49\n",
       "Name: arr_del15, dtype: int64"
      ]
     },
     "execution_count": 34,
     "metadata": {},
     "output_type": "execute_result"
    }
   ],
   "source": [
    "y.value_counts()"
   ]
  },
  {
   "cell_type": "code",
   "execution_count": 49,
   "id": "c4fabb54-9227-4c62-a424-66e9b7c5ae0c",
   "metadata": {
    "tags": []
   },
   "outputs": [],
   "source": [
    "categorical_cols = ['carrier', 'airport', 'month']\n",
    "numerical_cols = X.columns.difference(categorical_cols + ['year'])  # Exclude 'year' for simplicity\n"
   ]
  },
  {
   "cell_type": "code",
   "execution_count": 50,
   "id": "6454665d-8404-4375-891e-34393dabf08c",
   "metadata": {
    "tags": []
   },
   "outputs": [],
   "source": [
    "from sklearn.compose import ColumnTransformer\n",
    "from sklearn.preprocessing import StandardScaler, OneHotEncoder"
   ]
  },
  {
   "cell_type": "code",
   "execution_count": 51,
   "id": "033f19ae-33b0-4981-8ff3-cf114fedb7ad",
   "metadata": {
    "tags": []
   },
   "outputs": [],
   "source": [
    "# Creating a preprocessing pipeline\n",
    "preprocessor = ColumnTransformer(\n",
    "    transformers=[\n",
    "        ('num', StandardScaler(), numerical_cols),\n",
    "        ('cat', OneHotEncoder(handle_unknown='ignore'), categorical_cols)\n",
    "    ])"
   ]
  },
  {
   "cell_type": "code",
   "execution_count": 72,
   "id": "7515bac3-effd-4efd-b028-57e6ed34ee9e",
   "metadata": {
    "tags": []
   },
   "outputs": [],
   "source": [
    "from sklearn.model_selection import train_test_split\n",
    "# Splitting dataset into training and test sets\n",
    "X_train, X_test, y_train, y_test = train_test_split(X, y, test_size=0.2, random_state=42)"
   ]
  },
  {
   "cell_type": "code",
   "execution_count": 71,
   "id": "163947ce-85c1-4489-ad6d-91b4f4f9f4e8",
   "metadata": {
    "tags": []
   },
   "outputs": [
    {
     "data": {
      "text/plain": [
       "((1248, 338), (313, 338))"
      ]
     },
     "execution_count": 71,
     "metadata": {},
     "output_type": "execute_result"
    }
   ],
   "source": [
    "# Applying preprocessing\n",
    "X_train_preprocessed = preprocessor.fit_transform(X_train)\n",
    "X_test_preprocessed = preprocessor.transform(X_test)\n",
    "X_train_preprocessed.shape, X_test_preprocessed.shape"
   ]
  },
  {
   "cell_type": "code",
   "execution_count": 69,
   "id": "98b8fa78-6a7c-42aa-b7a4-483aec400a9c",
   "metadata": {
    "tags": []
   },
   "outputs": [
    {
     "data": {
      "text/plain": [
       "(0.9712460063897763, 0.9854132901134521)"
      ]
     },
     "execution_count": 69,
     "metadata": {},
     "output_type": "execute_result"
    }
   ],
   "source": [
    "from sklearn.linear_model import LogisticRegression\n",
    "from sklearn.metrics import accuracy_score, f1_score\n",
    "\n",
    "# initializing the logistic regression model\n",
    "logreg = LogisticRegression(max_iter=1000, random_state=42)\n",
    "\n",
    "# Training the model\n",
    "logreg.fit(X_train_preprocessed, y_train)\n",
    "\n",
    "# Predicting on the test set\n",
    "y_pred = logreg.predict(X_test_preprocessed)\n",
    "\n",
    "# Calculating metrics\n",
    "accuracy = accuracy_score(y_test, y_pred)\n",
    "f1 = f1_score(y_test, y_pred)\n",
    "accuracy, f1"
   ]
  },
  {
   "cell_type": "code",
   "execution_count": null,
   "id": "00dcbfc4-8779-4710-b7d1-107eb7619f01",
   "metadata": {},
   "outputs": [],
   "source": []
  }
 ],
 "metadata": {
  "kernelspec": {
   "display_name": "Python 3.9",
   "language": "python",
   "name": "python3"
  },
  "language_info": {
   "codemirror_mode": {
    "name": "ipython",
    "version": 3
   },
   "file_extension": ".py",
   "mimetype": "text/x-python",
   "name": "python",
   "nbconvert_exporter": "python",
   "pygments_lexer": "ipython3",
   "version": "3.9.18"
  }
 },
 "nbformat": 4,
 "nbformat_minor": 5
}
